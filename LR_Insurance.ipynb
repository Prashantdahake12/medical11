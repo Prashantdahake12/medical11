{
 "cells": [
  {
   "cell_type": "code",
   "execution_count": 1,
   "id": "fe59fd6b",
   "metadata": {},
   "outputs": [],
   "source": [
    "# import numpy as np\n",
    "# import pandas as pd\n",
    "# # from sklearn.linear_model import LinearRegressioninear\n",
    "# from sklearn.model_selection import train_test_split\n",
    "# from sklearn.metrics import mean_absolute_error,mean_squared_error,r2_score\n",
    "# from sklearn.stats.models.stats.outliers_influence import variance_inflation_factor\n",
    "\n"
   ]
  },
  {
   "cell_type": "code",
   "execution_count": 2,
   "id": "2def3d79",
   "metadata": {},
   "outputs": [],
   "source": [
    "\n",
    "# from sklearn.linear_model import LinearRegressioninear"
   ]
  },
  {
   "cell_type": "code",
   "execution_count": 3,
   "id": "f9323461",
   "metadata": {},
   "outputs": [],
   "source": [
    "import numpy as np\n",
    "import pandas as pd\n",
    "import matplotlib.pyplot as plt\n",
    "import seaborn as sns\n",
    "from  sklearn.linear_model import LinearRegression\n",
    "from sklearn.model_selection import train_test_split\n",
    "from statsmodels.stats.outliers_influence import variance_inflation_factor\n",
    "\n",
    "from sklearn.metrics import mean_squared_error,mean_absolute_error,r2_score\n",
    "import pickle \n",
    "import json "
   ]
  },
  {
   "cell_type": "code",
   "execution_count": 4,
   "id": "ffd4f2b5",
   "metadata": {},
   "outputs": [
    {
     "data": {
      "text/html": [
       "<div>\n",
       "<style scoped>\n",
       "    .dataframe tbody tr th:only-of-type {\n",
       "        vertical-align: middle;\n",
       "    }\n",
       "\n",
       "    .dataframe tbody tr th {\n",
       "        vertical-align: top;\n",
       "    }\n",
       "\n",
       "    .dataframe thead th {\n",
       "        text-align: right;\n",
       "    }\n",
       "</style>\n",
       "<table border=\"1\" class=\"dataframe\">\n",
       "  <thead>\n",
       "    <tr style=\"text-align: right;\">\n",
       "      <th></th>\n",
       "      <th>age</th>\n",
       "      <th>sex</th>\n",
       "      <th>bmi</th>\n",
       "      <th>children</th>\n",
       "      <th>smoker</th>\n",
       "      <th>region</th>\n",
       "      <th>charges</th>\n",
       "    </tr>\n",
       "  </thead>\n",
       "  <tbody>\n",
       "    <tr>\n",
       "      <th>0</th>\n",
       "      <td>19</td>\n",
       "      <td>female</td>\n",
       "      <td>27.900</td>\n",
       "      <td>0</td>\n",
       "      <td>yes</td>\n",
       "      <td>southwest</td>\n",
       "      <td>16884.92400</td>\n",
       "    </tr>\n",
       "    <tr>\n",
       "      <th>1</th>\n",
       "      <td>18</td>\n",
       "      <td>male</td>\n",
       "      <td>33.770</td>\n",
       "      <td>1</td>\n",
       "      <td>no</td>\n",
       "      <td>southeast</td>\n",
       "      <td>1725.55230</td>\n",
       "    </tr>\n",
       "    <tr>\n",
       "      <th>2</th>\n",
       "      <td>28</td>\n",
       "      <td>male</td>\n",
       "      <td>33.000</td>\n",
       "      <td>3</td>\n",
       "      <td>no</td>\n",
       "      <td>southeast</td>\n",
       "      <td>4449.46200</td>\n",
       "    </tr>\n",
       "    <tr>\n",
       "      <th>3</th>\n",
       "      <td>33</td>\n",
       "      <td>male</td>\n",
       "      <td>22.705</td>\n",
       "      <td>0</td>\n",
       "      <td>no</td>\n",
       "      <td>northwest</td>\n",
       "      <td>21984.47061</td>\n",
       "    </tr>\n",
       "    <tr>\n",
       "      <th>4</th>\n",
       "      <td>32</td>\n",
       "      <td>male</td>\n",
       "      <td>28.880</td>\n",
       "      <td>0</td>\n",
       "      <td>no</td>\n",
       "      <td>northwest</td>\n",
       "      <td>3866.85520</td>\n",
       "    </tr>\n",
       "    <tr>\n",
       "      <th>...</th>\n",
       "      <td>...</td>\n",
       "      <td>...</td>\n",
       "      <td>...</td>\n",
       "      <td>...</td>\n",
       "      <td>...</td>\n",
       "      <td>...</td>\n",
       "      <td>...</td>\n",
       "    </tr>\n",
       "    <tr>\n",
       "      <th>1333</th>\n",
       "      <td>50</td>\n",
       "      <td>male</td>\n",
       "      <td>30.970</td>\n",
       "      <td>3</td>\n",
       "      <td>no</td>\n",
       "      <td>northwest</td>\n",
       "      <td>10600.54830</td>\n",
       "    </tr>\n",
       "    <tr>\n",
       "      <th>1334</th>\n",
       "      <td>18</td>\n",
       "      <td>female</td>\n",
       "      <td>31.920</td>\n",
       "      <td>0</td>\n",
       "      <td>no</td>\n",
       "      <td>northeast</td>\n",
       "      <td>2205.98080</td>\n",
       "    </tr>\n",
       "    <tr>\n",
       "      <th>1335</th>\n",
       "      <td>18</td>\n",
       "      <td>female</td>\n",
       "      <td>36.850</td>\n",
       "      <td>0</td>\n",
       "      <td>no</td>\n",
       "      <td>southeast</td>\n",
       "      <td>1629.83350</td>\n",
       "    </tr>\n",
       "    <tr>\n",
       "      <th>1336</th>\n",
       "      <td>21</td>\n",
       "      <td>female</td>\n",
       "      <td>25.800</td>\n",
       "      <td>0</td>\n",
       "      <td>no</td>\n",
       "      <td>southwest</td>\n",
       "      <td>2007.94500</td>\n",
       "    </tr>\n",
       "    <tr>\n",
       "      <th>1337</th>\n",
       "      <td>61</td>\n",
       "      <td>female</td>\n",
       "      <td>29.070</td>\n",
       "      <td>0</td>\n",
       "      <td>yes</td>\n",
       "      <td>northwest</td>\n",
       "      <td>29141.36030</td>\n",
       "    </tr>\n",
       "  </tbody>\n",
       "</table>\n",
       "<p>1338 rows × 7 columns</p>\n",
       "</div>"
      ],
      "text/plain": [
       "      age     sex     bmi  children smoker     region      charges\n",
       "0      19  female  27.900         0    yes  southwest  16884.92400\n",
       "1      18    male  33.770         1     no  southeast   1725.55230\n",
       "2      28    male  33.000         3     no  southeast   4449.46200\n",
       "3      33    male  22.705         0     no  northwest  21984.47061\n",
       "4      32    male  28.880         0     no  northwest   3866.85520\n",
       "...   ...     ...     ...       ...    ...        ...          ...\n",
       "1333   50    male  30.970         3     no  northwest  10600.54830\n",
       "1334   18  female  31.920         0     no  northeast   2205.98080\n",
       "1335   18  female  36.850         0     no  southeast   1629.83350\n",
       "1336   21  female  25.800         0     no  southwest   2007.94500\n",
       "1337   61  female  29.070         0    yes  northwest  29141.36030\n",
       "\n",
       "[1338 rows x 7 columns]"
      ]
     },
     "execution_count": 4,
     "metadata": {},
     "output_type": "execute_result"
    }
   ],
   "source": [
    "df=pd.read_csv(\"medical_insurance.csv\")\n",
    "df"
   ]
  },
  {
   "cell_type": "code",
   "execution_count": 5,
   "id": "dce21053",
   "metadata": {},
   "outputs": [
    {
     "name": "stdout",
     "output_type": "stream",
     "text": [
      "<class 'pandas.core.frame.DataFrame'>\n",
      "RangeIndex: 1338 entries, 0 to 1337\n",
      "Data columns (total 7 columns):\n",
      " #   Column    Non-Null Count  Dtype  \n",
      "---  ------    --------------  -----  \n",
      " 0   age       1338 non-null   int64  \n",
      " 1   sex       1338 non-null   object \n",
      " 2   bmi       1338 non-null   float64\n",
      " 3   children  1338 non-null   int64  \n",
      " 4   smoker    1338 non-null   object \n",
      " 5   region    1338 non-null   object \n",
      " 6   charges   1338 non-null   float64\n",
      "dtypes: float64(2), int64(2), object(3)\n",
      "memory usage: 73.3+ KB\n"
     ]
    }
   ],
   "source": [
    "df.info()"
   ]
  },
  {
   "cell_type": "code",
   "execution_count": 6,
   "id": "6acf8a39",
   "metadata": {},
   "outputs": [
    {
     "data": {
      "text/plain": [
       "age         0\n",
       "sex         0\n",
       "bmi         0\n",
       "children    0\n",
       "smoker      0\n",
       "region      0\n",
       "charges     0\n",
       "dtype: int64"
      ]
     },
     "execution_count": 6,
     "metadata": {},
     "output_type": "execute_result"
    }
   ],
   "source": [
    "df.isna().sum()"
   ]
  },
  {
   "cell_type": "code",
   "execution_count": 37,
   "id": "5aadb66a",
   "metadata": {},
   "outputs": [],
   "source": [
    "# EDA"
   ]
  },
  {
   "cell_type": "code",
   "execution_count": 38,
   "id": "4610ce20",
   "metadata": {},
   "outputs": [
    {
     "data": {
      "text/plain": [
       "{'male': 676, 'female': 662}"
      ]
     },
     "execution_count": 38,
     "metadata": {},
     "output_type": "execute_result"
    }
   ],
   "source": [
    "df[\"sex\"].value_counts().to_dict()"
   ]
  },
  {
   "cell_type": "code",
   "execution_count": 39,
   "id": "3fd5f67c",
   "metadata": {},
   "outputs": [],
   "source": [
    "df[\"sex\"].replace({'male': 1, 'female':0},inplace=True)"
   ]
  },
  {
   "cell_type": "code",
   "execution_count": 40,
   "id": "07a1762e",
   "metadata": {},
   "outputs": [
    {
     "data": {
      "text/plain": [
       "1"
      ]
     },
     "execution_count": 40,
     "metadata": {},
     "output_type": "execute_result"
    }
   ],
   "source": [
    "sex_value={'male': 1, 'female':0}\n",
    "sex_value[\"male\"]"
   ]
  },
  {
   "cell_type": "code",
   "execution_count": 41,
   "id": "7495a2d4",
   "metadata": {},
   "outputs": [
    {
     "name": "stdout",
     "output_type": "stream",
     "text": [
      "<class 'pandas.core.frame.DataFrame'>\n",
      "RangeIndex: 1338 entries, 0 to 1337\n",
      "Data columns (total 7 columns):\n",
      " #   Column    Non-Null Count  Dtype  \n",
      "---  ------    --------------  -----  \n",
      " 0   age       1338 non-null   int64  \n",
      " 1   sex       1338 non-null   int64  \n",
      " 2   bmi       1338 non-null   float64\n",
      " 3   children  1338 non-null   int64  \n",
      " 4   smoker    1338 non-null   object \n",
      " 5   region    1338 non-null   object \n",
      " 6   charges   1338 non-null   float64\n",
      "dtypes: float64(2), int64(3), object(2)\n",
      "memory usage: 73.3+ KB\n"
     ]
    }
   ],
   "source": [
    "df.info()"
   ]
  },
  {
   "cell_type": "code",
   "execution_count": 42,
   "id": "5c1e6853",
   "metadata": {},
   "outputs": [
    {
     "data": {
      "text/plain": [
       "{'no': 1064, 'yes': 274}"
      ]
     },
     "execution_count": 42,
     "metadata": {},
     "output_type": "execute_result"
    }
   ],
   "source": [
    "df[\"smoker\"].value_counts().to_dict()"
   ]
  },
  {
   "cell_type": "code",
   "execution_count": 43,
   "id": "2332c460",
   "metadata": {},
   "outputs": [],
   "source": [
    "df[\"smoker\"].replace({'no': 0, 'yes': 1},inplace=True)"
   ]
  },
  {
   "cell_type": "code",
   "execution_count": 44,
   "id": "d76e169e",
   "metadata": {},
   "outputs": [
    {
     "data": {
      "text/plain": [
       "0    1064\n",
       "1     274\n",
       "Name: smoker, dtype: int64"
      ]
     },
     "execution_count": 44,
     "metadata": {},
     "output_type": "execute_result"
    }
   ],
   "source": [
    "df[\"smoker\"].value_counts()"
   ]
  },
  {
   "cell_type": "code",
   "execution_count": 45,
   "id": "559a4dbc",
   "metadata": {},
   "outputs": [
    {
     "data": {
      "text/plain": [
       "0"
      ]
     },
     "execution_count": 45,
     "metadata": {},
     "output_type": "execute_result"
    }
   ],
   "source": [
    "smoker_value={'no': 0, 'yes': 1}\n",
    "smoker_value[\"no\"]"
   ]
  },
  {
   "cell_type": "code",
   "execution_count": 46,
   "id": "f9637f5f",
   "metadata": {},
   "outputs": [
    {
     "data": {
      "text/plain": [
       "southeast    364\n",
       "southwest    325\n",
       "northwest    325\n",
       "northeast    324\n",
       "Name: region, dtype: int64"
      ]
     },
     "execution_count": 46,
     "metadata": {},
     "output_type": "execute_result"
    }
   ],
   "source": [
    "df[\"region\"].value_counts()"
   ]
  },
  {
   "cell_type": "code",
   "execution_count": 47,
   "id": "350c4aa8",
   "metadata": {},
   "outputs": [],
   "source": [
    "# df=pd.get_dummies(df,columns=[\"region\"])\n",
    "df=pd.get_dummies(df,columns=['region'])\n"
   ]
  },
  {
   "cell_type": "code",
   "execution_count": 48,
   "id": "e95bc309",
   "metadata": {},
   "outputs": [
    {
     "data": {
      "text/html": [
       "<div>\n",
       "<style scoped>\n",
       "    .dataframe tbody tr th:only-of-type {\n",
       "        vertical-align: middle;\n",
       "    }\n",
       "\n",
       "    .dataframe tbody tr th {\n",
       "        vertical-align: top;\n",
       "    }\n",
       "\n",
       "    .dataframe thead th {\n",
       "        text-align: right;\n",
       "    }\n",
       "</style>\n",
       "<table border=\"1\" class=\"dataframe\">\n",
       "  <thead>\n",
       "    <tr style=\"text-align: right;\">\n",
       "      <th></th>\n",
       "      <th>age</th>\n",
       "      <th>sex</th>\n",
       "      <th>bmi</th>\n",
       "      <th>children</th>\n",
       "      <th>smoker</th>\n",
       "      <th>charges</th>\n",
       "      <th>region_northeast</th>\n",
       "      <th>region_northwest</th>\n",
       "      <th>region_southeast</th>\n",
       "      <th>region_southwest</th>\n",
       "    </tr>\n",
       "  </thead>\n",
       "  <tbody>\n",
       "    <tr>\n",
       "      <th>0</th>\n",
       "      <td>19</td>\n",
       "      <td>0</td>\n",
       "      <td>27.900</td>\n",
       "      <td>0</td>\n",
       "      <td>1</td>\n",
       "      <td>16884.92400</td>\n",
       "      <td>0</td>\n",
       "      <td>0</td>\n",
       "      <td>0</td>\n",
       "      <td>1</td>\n",
       "    </tr>\n",
       "    <tr>\n",
       "      <th>1</th>\n",
       "      <td>18</td>\n",
       "      <td>1</td>\n",
       "      <td>33.770</td>\n",
       "      <td>1</td>\n",
       "      <td>0</td>\n",
       "      <td>1725.55230</td>\n",
       "      <td>0</td>\n",
       "      <td>0</td>\n",
       "      <td>1</td>\n",
       "      <td>0</td>\n",
       "    </tr>\n",
       "    <tr>\n",
       "      <th>2</th>\n",
       "      <td>28</td>\n",
       "      <td>1</td>\n",
       "      <td>33.000</td>\n",
       "      <td>3</td>\n",
       "      <td>0</td>\n",
       "      <td>4449.46200</td>\n",
       "      <td>0</td>\n",
       "      <td>0</td>\n",
       "      <td>1</td>\n",
       "      <td>0</td>\n",
       "    </tr>\n",
       "    <tr>\n",
       "      <th>3</th>\n",
       "      <td>33</td>\n",
       "      <td>1</td>\n",
       "      <td>22.705</td>\n",
       "      <td>0</td>\n",
       "      <td>0</td>\n",
       "      <td>21984.47061</td>\n",
       "      <td>0</td>\n",
       "      <td>1</td>\n",
       "      <td>0</td>\n",
       "      <td>0</td>\n",
       "    </tr>\n",
       "    <tr>\n",
       "      <th>4</th>\n",
       "      <td>32</td>\n",
       "      <td>1</td>\n",
       "      <td>28.880</td>\n",
       "      <td>0</td>\n",
       "      <td>0</td>\n",
       "      <td>3866.85520</td>\n",
       "      <td>0</td>\n",
       "      <td>1</td>\n",
       "      <td>0</td>\n",
       "      <td>0</td>\n",
       "    </tr>\n",
       "    <tr>\n",
       "      <th>...</th>\n",
       "      <td>...</td>\n",
       "      <td>...</td>\n",
       "      <td>...</td>\n",
       "      <td>...</td>\n",
       "      <td>...</td>\n",
       "      <td>...</td>\n",
       "      <td>...</td>\n",
       "      <td>...</td>\n",
       "      <td>...</td>\n",
       "      <td>...</td>\n",
       "    </tr>\n",
       "    <tr>\n",
       "      <th>1333</th>\n",
       "      <td>50</td>\n",
       "      <td>1</td>\n",
       "      <td>30.970</td>\n",
       "      <td>3</td>\n",
       "      <td>0</td>\n",
       "      <td>10600.54830</td>\n",
       "      <td>0</td>\n",
       "      <td>1</td>\n",
       "      <td>0</td>\n",
       "      <td>0</td>\n",
       "    </tr>\n",
       "    <tr>\n",
       "      <th>1334</th>\n",
       "      <td>18</td>\n",
       "      <td>0</td>\n",
       "      <td>31.920</td>\n",
       "      <td>0</td>\n",
       "      <td>0</td>\n",
       "      <td>2205.98080</td>\n",
       "      <td>1</td>\n",
       "      <td>0</td>\n",
       "      <td>0</td>\n",
       "      <td>0</td>\n",
       "    </tr>\n",
       "    <tr>\n",
       "      <th>1335</th>\n",
       "      <td>18</td>\n",
       "      <td>0</td>\n",
       "      <td>36.850</td>\n",
       "      <td>0</td>\n",
       "      <td>0</td>\n",
       "      <td>1629.83350</td>\n",
       "      <td>0</td>\n",
       "      <td>0</td>\n",
       "      <td>1</td>\n",
       "      <td>0</td>\n",
       "    </tr>\n",
       "    <tr>\n",
       "      <th>1336</th>\n",
       "      <td>21</td>\n",
       "      <td>0</td>\n",
       "      <td>25.800</td>\n",
       "      <td>0</td>\n",
       "      <td>0</td>\n",
       "      <td>2007.94500</td>\n",
       "      <td>0</td>\n",
       "      <td>0</td>\n",
       "      <td>0</td>\n",
       "      <td>1</td>\n",
       "    </tr>\n",
       "    <tr>\n",
       "      <th>1337</th>\n",
       "      <td>61</td>\n",
       "      <td>0</td>\n",
       "      <td>29.070</td>\n",
       "      <td>0</td>\n",
       "      <td>1</td>\n",
       "      <td>29141.36030</td>\n",
       "      <td>0</td>\n",
       "      <td>1</td>\n",
       "      <td>0</td>\n",
       "      <td>0</td>\n",
       "    </tr>\n",
       "  </tbody>\n",
       "</table>\n",
       "<p>1338 rows × 10 columns</p>\n",
       "</div>"
      ],
      "text/plain": [
       "      age  sex     bmi  children  smoker      charges  region_northeast  \\\n",
       "0      19    0  27.900         0       1  16884.92400                 0   \n",
       "1      18    1  33.770         1       0   1725.55230                 0   \n",
       "2      28    1  33.000         3       0   4449.46200                 0   \n",
       "3      33    1  22.705         0       0  21984.47061                 0   \n",
       "4      32    1  28.880         0       0   3866.85520                 0   \n",
       "...   ...  ...     ...       ...     ...          ...               ...   \n",
       "1333   50    1  30.970         3       0  10600.54830                 0   \n",
       "1334   18    0  31.920         0       0   2205.98080                 1   \n",
       "1335   18    0  36.850         0       0   1629.83350                 0   \n",
       "1336   21    0  25.800         0       0   2007.94500                 0   \n",
       "1337   61    0  29.070         0       1  29141.36030                 0   \n",
       "\n",
       "      region_northwest  region_southeast  region_southwest  \n",
       "0                    0                 0                 1  \n",
       "1                    0                 1                 0  \n",
       "2                    0                 1                 0  \n",
       "3                    1                 0                 0  \n",
       "4                    1                 0                 0  \n",
       "...                ...               ...               ...  \n",
       "1333                 1                 0                 0  \n",
       "1334                 0                 0                 0  \n",
       "1335                 0                 1                 0  \n",
       "1336                 0                 0                 1  \n",
       "1337                 1                 0                 0  \n",
       "\n",
       "[1338 rows x 10 columns]"
      ]
     },
     "execution_count": 48,
     "metadata": {},
     "output_type": "execute_result"
    }
   ],
   "source": [
    "df"
   ]
  },
  {
   "cell_type": "code",
   "execution_count": 49,
   "id": "4a239209",
   "metadata": {},
   "outputs": [
    {
     "name": "stdout",
     "output_type": "stream",
     "text": [
      "<class 'pandas.core.frame.DataFrame'>\n",
      "RangeIndex: 1338 entries, 0 to 1337\n",
      "Data columns (total 10 columns):\n",
      " #   Column            Non-Null Count  Dtype  \n",
      "---  ------            --------------  -----  \n",
      " 0   age               1338 non-null   int64  \n",
      " 1   sex               1338 non-null   int64  \n",
      " 2   bmi               1338 non-null   float64\n",
      " 3   children          1338 non-null   int64  \n",
      " 4   smoker            1338 non-null   int64  \n",
      " 5   charges           1338 non-null   float64\n",
      " 6   region_northeast  1338 non-null   uint8  \n",
      " 7   region_northwest  1338 non-null   uint8  \n",
      " 8   region_southeast  1338 non-null   uint8  \n",
      " 9   region_southwest  1338 non-null   uint8  \n",
      "dtypes: float64(2), int64(4), uint8(4)\n",
      "memory usage: 68.1 KB\n"
     ]
    }
   ],
   "source": [
    "df.info()"
   ]
  },
  {
   "cell_type": "code",
   "execution_count": 51,
   "id": "45830664",
   "metadata": {},
   "outputs": [],
   "source": [
    "# linearity "
   ]
  },
  {
   "cell_type": "code",
   "execution_count": 52,
   "id": "d812871f",
   "metadata": {},
   "outputs": [
    {
     "data": {
      "text/html": [
       "<div>\n",
       "<style scoped>\n",
       "    .dataframe tbody tr th:only-of-type {\n",
       "        vertical-align: middle;\n",
       "    }\n",
       "\n",
       "    .dataframe tbody tr th {\n",
       "        vertical-align: top;\n",
       "    }\n",
       "\n",
       "    .dataframe thead th {\n",
       "        text-align: right;\n",
       "    }\n",
       "</style>\n",
       "<table border=\"1\" class=\"dataframe\">\n",
       "  <thead>\n",
       "    <tr style=\"text-align: right;\">\n",
       "      <th></th>\n",
       "      <th>age</th>\n",
       "      <th>sex</th>\n",
       "      <th>bmi</th>\n",
       "      <th>children</th>\n",
       "      <th>smoker</th>\n",
       "      <th>charges</th>\n",
       "      <th>region_northeast</th>\n",
       "      <th>region_northwest</th>\n",
       "      <th>region_southeast</th>\n",
       "      <th>region_southwest</th>\n",
       "    </tr>\n",
       "  </thead>\n",
       "  <tbody>\n",
       "    <tr>\n",
       "      <th>age</th>\n",
       "      <td>1.000000</td>\n",
       "      <td>-0.020856</td>\n",
       "      <td>0.109272</td>\n",
       "      <td>0.042469</td>\n",
       "      <td>-0.025019</td>\n",
       "      <td>0.299008</td>\n",
       "      <td>0.002475</td>\n",
       "      <td>-0.000407</td>\n",
       "      <td>-0.011642</td>\n",
       "      <td>0.010016</td>\n",
       "    </tr>\n",
       "    <tr>\n",
       "      <th>sex</th>\n",
       "      <td>-0.020856</td>\n",
       "      <td>1.000000</td>\n",
       "      <td>0.046371</td>\n",
       "      <td>0.017163</td>\n",
       "      <td>0.076185</td>\n",
       "      <td>0.057292</td>\n",
       "      <td>-0.002425</td>\n",
       "      <td>-0.011156</td>\n",
       "      <td>0.017117</td>\n",
       "      <td>-0.004184</td>\n",
       "    </tr>\n",
       "    <tr>\n",
       "      <th>bmi</th>\n",
       "      <td>0.109272</td>\n",
       "      <td>0.046371</td>\n",
       "      <td>1.000000</td>\n",
       "      <td>0.012759</td>\n",
       "      <td>0.003750</td>\n",
       "      <td>0.198341</td>\n",
       "      <td>-0.138156</td>\n",
       "      <td>-0.135996</td>\n",
       "      <td>0.270025</td>\n",
       "      <td>-0.006205</td>\n",
       "    </tr>\n",
       "    <tr>\n",
       "      <th>children</th>\n",
       "      <td>0.042469</td>\n",
       "      <td>0.017163</td>\n",
       "      <td>0.012759</td>\n",
       "      <td>1.000000</td>\n",
       "      <td>0.007673</td>\n",
       "      <td>0.067998</td>\n",
       "      <td>-0.022808</td>\n",
       "      <td>0.024806</td>\n",
       "      <td>-0.023066</td>\n",
       "      <td>0.021914</td>\n",
       "    </tr>\n",
       "    <tr>\n",
       "      <th>smoker</th>\n",
       "      <td>-0.025019</td>\n",
       "      <td>0.076185</td>\n",
       "      <td>0.003750</td>\n",
       "      <td>0.007673</td>\n",
       "      <td>1.000000</td>\n",
       "      <td>0.787251</td>\n",
       "      <td>0.002811</td>\n",
       "      <td>-0.036945</td>\n",
       "      <td>0.068498</td>\n",
       "      <td>-0.036945</td>\n",
       "    </tr>\n",
       "    <tr>\n",
       "      <th>charges</th>\n",
       "      <td>0.299008</td>\n",
       "      <td>0.057292</td>\n",
       "      <td>0.198341</td>\n",
       "      <td>0.067998</td>\n",
       "      <td>0.787251</td>\n",
       "      <td>1.000000</td>\n",
       "      <td>0.006349</td>\n",
       "      <td>-0.039905</td>\n",
       "      <td>0.073982</td>\n",
       "      <td>-0.043210</td>\n",
       "    </tr>\n",
       "    <tr>\n",
       "      <th>region_northeast</th>\n",
       "      <td>0.002475</td>\n",
       "      <td>-0.002425</td>\n",
       "      <td>-0.138156</td>\n",
       "      <td>-0.022808</td>\n",
       "      <td>0.002811</td>\n",
       "      <td>0.006349</td>\n",
       "      <td>1.000000</td>\n",
       "      <td>-0.320177</td>\n",
       "      <td>-0.345561</td>\n",
       "      <td>-0.320177</td>\n",
       "    </tr>\n",
       "    <tr>\n",
       "      <th>region_northwest</th>\n",
       "      <td>-0.000407</td>\n",
       "      <td>-0.011156</td>\n",
       "      <td>-0.135996</td>\n",
       "      <td>0.024806</td>\n",
       "      <td>-0.036945</td>\n",
       "      <td>-0.039905</td>\n",
       "      <td>-0.320177</td>\n",
       "      <td>1.000000</td>\n",
       "      <td>-0.346265</td>\n",
       "      <td>-0.320829</td>\n",
       "    </tr>\n",
       "    <tr>\n",
       "      <th>region_southeast</th>\n",
       "      <td>-0.011642</td>\n",
       "      <td>0.017117</td>\n",
       "      <td>0.270025</td>\n",
       "      <td>-0.023066</td>\n",
       "      <td>0.068498</td>\n",
       "      <td>0.073982</td>\n",
       "      <td>-0.345561</td>\n",
       "      <td>-0.346265</td>\n",
       "      <td>1.000000</td>\n",
       "      <td>-0.346265</td>\n",
       "    </tr>\n",
       "    <tr>\n",
       "      <th>region_southwest</th>\n",
       "      <td>0.010016</td>\n",
       "      <td>-0.004184</td>\n",
       "      <td>-0.006205</td>\n",
       "      <td>0.021914</td>\n",
       "      <td>-0.036945</td>\n",
       "      <td>-0.043210</td>\n",
       "      <td>-0.320177</td>\n",
       "      <td>-0.320829</td>\n",
       "      <td>-0.346265</td>\n",
       "      <td>1.000000</td>\n",
       "    </tr>\n",
       "  </tbody>\n",
       "</table>\n",
       "</div>"
      ],
      "text/plain": [
       "                       age       sex       bmi  children    smoker   charges  \\\n",
       "age               1.000000 -0.020856  0.109272  0.042469 -0.025019  0.299008   \n",
       "sex              -0.020856  1.000000  0.046371  0.017163  0.076185  0.057292   \n",
       "bmi               0.109272  0.046371  1.000000  0.012759  0.003750  0.198341   \n",
       "children          0.042469  0.017163  0.012759  1.000000  0.007673  0.067998   \n",
       "smoker           -0.025019  0.076185  0.003750  0.007673  1.000000  0.787251   \n",
       "charges           0.299008  0.057292  0.198341  0.067998  0.787251  1.000000   \n",
       "region_northeast  0.002475 -0.002425 -0.138156 -0.022808  0.002811  0.006349   \n",
       "region_northwest -0.000407 -0.011156 -0.135996  0.024806 -0.036945 -0.039905   \n",
       "region_southeast -0.011642  0.017117  0.270025 -0.023066  0.068498  0.073982   \n",
       "region_southwest  0.010016 -0.004184 -0.006205  0.021914 -0.036945 -0.043210   \n",
       "\n",
       "                  region_northeast  region_northwest  region_southeast  \\\n",
       "age                       0.002475         -0.000407         -0.011642   \n",
       "sex                      -0.002425         -0.011156          0.017117   \n",
       "bmi                      -0.138156         -0.135996          0.270025   \n",
       "children                 -0.022808          0.024806         -0.023066   \n",
       "smoker                    0.002811         -0.036945          0.068498   \n",
       "charges                   0.006349         -0.039905          0.073982   \n",
       "region_northeast          1.000000         -0.320177         -0.345561   \n",
       "region_northwest         -0.320177          1.000000         -0.346265   \n",
       "region_southeast         -0.345561         -0.346265          1.000000   \n",
       "region_southwest         -0.320177         -0.320829         -0.346265   \n",
       "\n",
       "                  region_southwest  \n",
       "age                       0.010016  \n",
       "sex                      -0.004184  \n",
       "bmi                      -0.006205  \n",
       "children                  0.021914  \n",
       "smoker                   -0.036945  \n",
       "charges                  -0.043210  \n",
       "region_northeast         -0.320177  \n",
       "region_northwest         -0.320829  \n",
       "region_southeast         -0.346265  \n",
       "region_southwest          1.000000  "
      ]
     },
     "execution_count": 52,
     "metadata": {},
     "output_type": "execute_result"
    }
   ],
   "source": [
    "df.corr()"
   ]
  },
  {
   "cell_type": "code",
   "execution_count": 53,
   "id": "db729e90",
   "metadata": {},
   "outputs": [
    {
     "data": {
      "text/plain": [
       "<AxesSubplot:>"
      ]
     },
     "execution_count": 53,
     "metadata": {},
     "output_type": "execute_result"
    },
    {
     "data": {
      "image/png": "[encoded data removed]",
      "text/plain": [
       "<Figure size 2160x360 with 2 Axes>"
      ]
     },
     "metadata": {
      "needs_background": "light"
     },
     "output_type": "display_data"
    }
   ],
   "source": [
    "plt.figure(figsize=(30,5))\n",
    "corr=df.corr()[5::]\n",
    "sns.heatmap(corr,annot=True)"
   ]
  },
  {
   "cell_type": "code",
   "execution_count": 54,
   "id": "6b7c0cf8",
   "metadata": {},
   "outputs": [
    {
     "ename": "SyntaxError",
     "evalue": "invalid syntax (4292409258.py, line 1)",
     "output_type": "error",
     "traceback": [
      "\u001b[1;36m  Input \u001b[1;32mIn [54]\u001b[1;36m\u001b[0m\n\u001b[1;33m    no multicoliNEARITY\u001b[0m\n\u001b[1;37m       ^\u001b[0m\n\u001b[1;31mSyntaxError\u001b[0m\u001b[1;31m:\u001b[0m invalid syntax\n"
     ]
    }
   ],
   "source": [
    "# no multicoliNEARITY"
   ]
  },
  {
   "cell_type": "code",
   "execution_count": 55,
   "id": "ebe068fe",
   "metadata": {},
   "outputs": [
    {
     "data": {
      "text/plain": [
       "<AxesSubplot:>"
      ]
     },
     "execution_count": 55,
     "metadata": {},
     "output_type": "execute_result"
    },
    {
     "data": {
      "image/png": "[encoded data removed]",
      "text/plain": [
       "<Figure size 432x288 with 1 Axes>"
      ]
     },
     "metadata": {
      "needs_background": "light"
     },
     "output_type": "display_data"
    }
   ],
   "source": [
    "VIF=[]\n",
    "# df=df.drop([\"charges\"],axis=1)\n",
    "for i in range(df.shape[1]):\n",
    "    v=variance_inflation_factor(df.to_numpy(),i)\n",
    "    VIF.append(v)\n",
    "s1=pd.Series(VIF)\n",
    "s1.sort_values().plot(kind=\"barh\")"
   ]
  },
  {
   "cell_type": "code",
   "execution_count": 57,
   "id": "2d330464",
   "metadata": {},
   "outputs": [],
   "source": [
    "# train model "
   ]
  },
  {
   "cell_type": "code",
   "execution_count": 58,
   "id": "cf01996c",
   "metadata": {},
   "outputs": [],
   "source": [
    "x=df.drop([\"charges\"],axis=1)\n",
    "y=df[\"charges\"]"
   ]
  },
  {
   "cell_type": "code",
   "execution_count": 59,
   "id": "850e5d28",
   "metadata": {},
   "outputs": [],
   "source": [
    "x_train,x_test,y_train,y_test=train_test_split(x,y,test_size=0.2)"
   ]
  },
  {
   "cell_type": "code",
   "execution_count": 60,
   "id": "fe83d27a",
   "metadata": {},
   "outputs": [
    {
     "data": {
      "text/html": [
       "<div>\n",
       "<style scoped>\n",
       "    .dataframe tbody tr th:only-of-type {\n",
       "        vertical-align: middle;\n",
       "    }\n",
       "\n",
       "    .dataframe tbody tr th {\n",
       "        vertical-align: top;\n",
       "    }\n",
       "\n",
       "    .dataframe thead th {\n",
       "        text-align: right;\n",
       "    }\n",
       "</style>\n",
       "<table border=\"1\" class=\"dataframe\">\n",
       "  <thead>\n",
       "    <tr style=\"text-align: right;\">\n",
       "      <th></th>\n",
       "      <th>age</th>\n",
       "      <th>sex</th>\n",
       "      <th>bmi</th>\n",
       "      <th>children</th>\n",
       "      <th>smoker</th>\n",
       "      <th>region_northeast</th>\n",
       "      <th>region_northwest</th>\n",
       "      <th>region_southeast</th>\n",
       "      <th>region_southwest</th>\n",
       "    </tr>\n",
       "  </thead>\n",
       "  <tbody>\n",
       "    <tr>\n",
       "      <th>985</th>\n",
       "      <td>44</td>\n",
       "      <td>0</td>\n",
       "      <td>25.80</td>\n",
       "      <td>1</td>\n",
       "      <td>0</td>\n",
       "      <td>0</td>\n",
       "      <td>0</td>\n",
       "      <td>0</td>\n",
       "      <td>1</td>\n",
       "    </tr>\n",
       "    <tr>\n",
       "      <th>348</th>\n",
       "      <td>36</td>\n",
       "      <td>0</td>\n",
       "      <td>29.92</td>\n",
       "      <td>1</td>\n",
       "      <td>0</td>\n",
       "      <td>0</td>\n",
       "      <td>0</td>\n",
       "      <td>1</td>\n",
       "      <td>0</td>\n",
       "    </tr>\n",
       "    <tr>\n",
       "      <th>679</th>\n",
       "      <td>49</td>\n",
       "      <td>0</td>\n",
       "      <td>23.18</td>\n",
       "      <td>2</td>\n",
       "      <td>0</td>\n",
       "      <td>0</td>\n",
       "      <td>1</td>\n",
       "      <td>0</td>\n",
       "      <td>0</td>\n",
       "    </tr>\n",
       "    <tr>\n",
       "      <th>604</th>\n",
       "      <td>19</td>\n",
       "      <td>0</td>\n",
       "      <td>28.31</td>\n",
       "      <td>0</td>\n",
       "      <td>1</td>\n",
       "      <td>0</td>\n",
       "      <td>1</td>\n",
       "      <td>0</td>\n",
       "      <td>0</td>\n",
       "    </tr>\n",
       "    <tr>\n",
       "      <th>677</th>\n",
       "      <td>60</td>\n",
       "      <td>1</td>\n",
       "      <td>31.35</td>\n",
       "      <td>3</td>\n",
       "      <td>1</td>\n",
       "      <td>0</td>\n",
       "      <td>1</td>\n",
       "      <td>0</td>\n",
       "      <td>0</td>\n",
       "    </tr>\n",
       "    <tr>\n",
       "      <th>...</th>\n",
       "      <td>...</td>\n",
       "      <td>...</td>\n",
       "      <td>...</td>\n",
       "      <td>...</td>\n",
       "      <td>...</td>\n",
       "      <td>...</td>\n",
       "      <td>...</td>\n",
       "      <td>...</td>\n",
       "      <td>...</td>\n",
       "    </tr>\n",
       "    <tr>\n",
       "      <th>550</th>\n",
       "      <td>63</td>\n",
       "      <td>1</td>\n",
       "      <td>30.80</td>\n",
       "      <td>0</td>\n",
       "      <td>0</td>\n",
       "      <td>0</td>\n",
       "      <td>0</td>\n",
       "      <td>0</td>\n",
       "      <td>1</td>\n",
       "    </tr>\n",
       "    <tr>\n",
       "      <th>1142</th>\n",
       "      <td>52</td>\n",
       "      <td>0</td>\n",
       "      <td>24.86</td>\n",
       "      <td>0</td>\n",
       "      <td>0</td>\n",
       "      <td>0</td>\n",
       "      <td>0</td>\n",
       "      <td>1</td>\n",
       "      <td>0</td>\n",
       "    </tr>\n",
       "    <tr>\n",
       "      <th>469</th>\n",
       "      <td>18</td>\n",
       "      <td>0</td>\n",
       "      <td>24.09</td>\n",
       "      <td>1</td>\n",
       "      <td>0</td>\n",
       "      <td>0</td>\n",
       "      <td>0</td>\n",
       "      <td>1</td>\n",
       "      <td>0</td>\n",
       "    </tr>\n",
       "    <tr>\n",
       "      <th>635</th>\n",
       "      <td>64</td>\n",
       "      <td>1</td>\n",
       "      <td>38.19</td>\n",
       "      <td>0</td>\n",
       "      <td>0</td>\n",
       "      <td>1</td>\n",
       "      <td>0</td>\n",
       "      <td>0</td>\n",
       "      <td>0</td>\n",
       "    </tr>\n",
       "    <tr>\n",
       "      <th>1188</th>\n",
       "      <td>43</td>\n",
       "      <td>0</td>\n",
       "      <td>25.27</td>\n",
       "      <td>1</td>\n",
       "      <td>1</td>\n",
       "      <td>1</td>\n",
       "      <td>0</td>\n",
       "      <td>0</td>\n",
       "      <td>0</td>\n",
       "    </tr>\n",
       "  </tbody>\n",
       "</table>\n",
       "<p>268 rows × 9 columns</p>\n",
       "</div>"
      ],
      "text/plain": [
       "      age  sex    bmi  children  smoker  region_northeast  region_northwest  \\\n",
       "985    44    0  25.80         1       0                 0                 0   \n",
       "348    36    0  29.92         1       0                 0                 0   \n",
       "679    49    0  23.18         2       0                 0                 1   \n",
       "604    19    0  28.31         0       1                 0                 1   \n",
       "677    60    1  31.35         3       1                 0                 1   \n",
       "...   ...  ...    ...       ...     ...               ...               ...   \n",
       "550    63    1  30.80         0       0                 0                 0   \n",
       "1142   52    0  24.86         0       0                 0                 0   \n",
       "469    18    0  24.09         1       0                 0                 0   \n",
       "635    64    1  38.19         0       0                 1                 0   \n",
       "1188   43    0  25.27         1       1                 1                 0   \n",
       "\n",
       "      region_southeast  region_southwest  \n",
       "985                  0                 1  \n",
       "348                  1                 0  \n",
       "679                  0                 0  \n",
       "604                  0                 0  \n",
       "677                  0                 0  \n",
       "...                ...               ...  \n",
       "550                  0                 1  \n",
       "1142                 1                 0  \n",
       "469                  1                 0  \n",
       "635                  0                 0  \n",
       "1188                 0                 0  \n",
       "\n",
       "[268 rows x 9 columns]"
      ]
     },
     "execution_count": 60,
     "metadata": {},
     "output_type": "execute_result"
    }
   ],
   "source": [
    "x_test"
   ]
  },
  {
   "cell_type": "code",
   "execution_count": 61,
   "id": "3c4242a0",
   "metadata": {},
   "outputs": [
    {
     "data": {
      "text/plain": [
       "LinearRegression()"
      ]
     },
     "execution_count": 61,
     "metadata": {},
     "output_type": "execute_result"
    }
   ],
   "source": [
    "model=LinearRegression()\n",
    "model.fit(x_train,y_train)"
   ]
  },
  {
   "cell_type": "code",
   "execution_count": 62,
   "id": "1adbf54e",
   "metadata": {},
   "outputs": [
    {
     "data": {
      "text/plain": [
       "array([  270.54286061,  -135.8490394 ,   330.16202412,   415.06574534,\n",
       "       24296.28565783,   353.17621124,   149.6796418 ,  -411.81850359,\n",
       "         -91.03734944])"
      ]
     },
     "execution_count": 62,
     "metadata": {},
     "output_type": "execute_result"
    }
   ],
   "source": [
    "model.coef_## this m slope"
   ]
  },
  {
   "cell_type": "code",
   "execution_count": 63,
   "id": "9d54bb83",
   "metadata": {},
   "outputs": [
    {
     "data": {
      "text/plain": [
       "-12923.387123940412"
      ]
     },
     "execution_count": 63,
     "metadata": {},
     "output_type": "execute_result"
    }
   ],
   "source": [
    "model.intercept_## this value of y_intercept"
   ]
  },
  {
   "cell_type": "code",
   "execution_count": 66,
   "id": "9b22c224",
   "metadata": {},
   "outputs": [],
   "source": [
    "# engineering feature on test data"
   ]
  },
  {
   "cell_type": "code",
   "execution_count": 67,
   "id": "e474ad8e",
   "metadata": {},
   "outputs": [
    {
     "data": {
      "text/plain": [
       "array([ 7822.70736121,  6697.85086156,  8966.17989764, 26009.77943022,\n",
       "       39215.07746521,  1281.69392585, 27091.95087266,  5842.24151839,\n",
       "       10190.23393836,  1812.50967442, 12656.87601262,  7212.58725151,\n",
       "        6558.32020358, 11097.62996893,   901.36591488,  3445.83430827,\n",
       "        2833.22943925,  9845.32519276, 29776.89542026,  8112.35456445,\n",
       "        4766.95813154,  9766.17337906, 12990.98610437,  7668.32232691,\n",
       "       31154.17566557, 34662.96233165,  5108.98127574,  5843.06937352,\n",
       "        1798.31878164, 11740.24203045, 29846.41164927, 17057.24399271,\n",
       "        6775.57062124,  1569.45760865,  7172.26217882,  8075.38320323,\n",
       "        8411.13186163,  6910.67899861,  4012.88936242,  9581.48043995,\n",
       "        6424.93699054, 15789.02187081,  7849.75744182,  6670.1120683 ,\n",
       "       10724.24540039,  3721.92400676,  5333.32098253,  7374.6440305 ,\n",
       "        2169.22865288, 10565.44979258,  6983.40294442, 15931.59651956,\n",
       "        3599.41524478,  9492.23321501, 12598.60795771,  7976.01880406,\n",
       "       36601.10474953, 12715.5264983 ,  7116.54062792,  3175.92154008,\n",
       "        1460.34532681, 13060.42951587, 13538.90075015, 35489.30909262,\n",
       "       10969.80467375,  1928.73601185, 15087.36931932,  7493.16134136,\n",
       "        1031.58288899,  5476.17259541,  9584.48057891, -1998.00998827,\n",
       "       13218.17256804,  4607.04304653, 10138.95212165,  5748.16560835,\n",
       "        1728.54815383, 33791.67187515, 23586.69145952,  3570.99624084,\n",
       "        7907.97948997, 17187.89902216,  7565.57257153, 26574.35649147,\n",
       "        4429.7859111 , 40570.96586736,  5845.1108406 , 31971.5034988 ,\n",
       "       13299.44175147, 32345.22821791,  8368.93808997, 10300.74719607,\n",
       "       11128.84085204, 11016.73854464,  6549.06512637, 14169.91048139,\n",
       "       11273.14811003, 11625.15568805,  9890.60502284, 12252.71716371,\n",
       "       33269.02449994,  3783.43576844,  8676.9230146 ,  9513.31533309,\n",
       "       33648.06621613,  9245.51112146, 13009.07757861, 37177.55829755,\n",
       "       33454.51257543,  8539.47905188, 12405.53845998, 14513.98271552,\n",
       "        3112.91424913, 14372.90385858,  1349.80023114, 12799.25910414,\n",
       "       13334.55917913,  3549.61057429,  6760.32948486,  6141.36261819,\n",
       "        3520.20019326,  4823.35132849,  2988.22047188, 39325.86344728,\n",
       "       36018.60155221,  2452.59799611,  8890.36551009,  8574.30335838,\n",
       "       28446.61568736, 27132.10462816, 37474.549805  , 10247.52845466,\n",
       "       10964.2943475 ,  9608.57971057,  6045.55188424, 33215.39012666,\n",
       "       11007.09233773,  7144.66737796,  1790.88734927, 10655.15194581,\n",
       "        2511.97055605, 11094.0381423 ,  8177.89574866, 11250.45449588,\n",
       "       31048.05186696, 10665.38623356,  3818.47821477, 29601.98497739,\n",
       "        2242.38993476,  1393.45481375,   960.45564625, 33489.48881309,\n",
       "        1940.61249862,  8905.8287995 , 35866.24804397,  8964.8663747 ,\n",
       "       10600.89341659, 14559.53608583, 15855.46545926, 11533.93712858,\n",
       "       14127.21053779,  9800.05964779, 26465.4428199 ,  9820.78872502,\n",
       "       10440.04026327,  5910.16883956,   820.88360703, 11611.22191561,\n",
       "        3246.0824881 , 15164.17298829, 12304.14946272, 39276.31923326,\n",
       "        5375.36354063, 32247.01103324,  1838.5277516 ,  8692.97650342,\n",
       "        2026.96637217, 14842.84122266, 11194.59546801, 10231.57173391,\n",
       "       31878.36956125,  8911.61993852,  3967.61732756, 14239.72711597,\n",
       "       13757.34168276,  1354.21536919,  2451.9713942 , 32032.32720049,\n",
       "       13146.66739415,  6713.52906012, 14008.2648211 , 34945.55214864,\n",
       "        7730.60922266,  3971.80201739,  3602.34845748,  4980.11910753,\n",
       "        8420.82560878, 35287.59065954, 28016.32582823,  4859.39607036,\n",
       "        9111.98848056, 27531.98067569,  2480.58140641,  4661.67834341,\n",
       "       13522.41291577, 28061.21851742,  5015.34294193,  5341.45493993,\n",
       "       11111.3306502 ,   681.81273339,   873.94382606,  7558.57774191,\n",
       "        7657.06337788,  9757.74486836,  -586.56733514,  8746.17826276,\n",
       "        7605.95201111, 32413.67301439,  3675.87650108, 26437.24736384,\n",
       "        8905.09542356, 28694.04391067,  6066.45437638,  -532.13819277,\n",
       "        3823.22131131,  4861.58417279,  3504.33757086, 30807.64701562,\n",
       "       11701.01888477,  9627.05282899,   987.77424309, 27511.44664247,\n",
       "       14136.20140347, 16476.54708326,  4972.24049072,  5163.3738524 ,\n",
       "       30574.26491411, 33496.95136581,  3296.39467807,  8630.18330575,\n",
       "       12306.27667197, 10814.72370565, 10597.80497712, 17264.96469193,\n",
       "        8113.65363319,  6378.67609562,  8487.59482869, 33995.48443143,\n",
       "       24771.82615402,  4734.90351578,  3136.74122657, 32064.38890744,\n",
       "       12251.76014161, 13118.40268479,  8021.1993955 ,  2944.10280931,\n",
       "       14114.44395517, 13455.27493189, 33646.08597899,  4952.62076845,\n",
       "        3401.63382225, 37837.79086599,  7343.59565856, 14062.91704868,\n",
       "        8940.85104393,   -96.76523006, 17217.57082824, 32117.67784632])"
      ]
     },
     "execution_count": 67,
     "metadata": {},
     "output_type": "execute_result"
    }
   ],
   "source": [
    "y_pre=model.predict(x_test)\n",
    "y_pre"
   ]
  },
  {
   "cell_type": "code",
   "execution_count": 68,
   "id": "155ac082",
   "metadata": {},
   "outputs": [
    {
     "name": "stdout",
     "output_type": "stream",
     "text": [
      "mae== 4417.526091523953\n"
     ]
    }
   ],
   "source": [
    "mae=mean_absolute_error(y_test,y_pre)\n",
    "print(\"mae==\",mae)"
   ]
  },
  {
   "cell_type": "code",
   "execution_count": 69,
   "id": "74575911",
   "metadata": {},
   "outputs": [
    {
     "name": "stdout",
     "output_type": "stream",
     "text": [
      "mse== 45524442.237952605\n"
     ]
    }
   ],
   "source": [
    "mse=mean_squared_error(y_test,y_pre)\n",
    "print(\"mse==\",mse)"
   ]
  },
  {
   "cell_type": "code",
   "execution_count": 70,
   "id": "7ff4edd6",
   "metadata": {},
   "outputs": [
    {
     "name": "stdout",
     "output_type": "stream",
     "text": [
      "rmse== 45524442.237952605\n"
     ]
    }
   ],
   "source": [
    "rmse=np.sqrt(mse)\n",
    "print(\"rmse==\",mse)"
   ]
  },
  {
   "cell_type": "code",
   "execution_count": 71,
   "id": "76eaec29",
   "metadata": {},
   "outputs": [
    {
     "name": "stdout",
     "output_type": "stream",
     "text": [
      "0.6583498155923184\n"
     ]
    }
   ],
   "source": [
    "r2=r2_score(y_test,y_pre)\n",
    "print(r2)"
   ]
  },
  {
   "cell_type": "code",
   "execution_count": 72,
   "id": "efafd259",
   "metadata": {},
   "outputs": [
    {
     "data": {
      "text/plain": [
       "array([ 7880.48829344, 33341.61342089, 37301.61342266, ...,\n",
       "        8772.45768807, 12617.62497727,  3192.71477231])"
      ]
     },
     "execution_count": 72,
     "metadata": {},
     "output_type": "execute_result"
    }
   ],
   "source": [
    "y_pre=model.predict(x_train)\n",
    "y_pre"
   ]
  },
  {
   "cell_type": "code",
   "execution_count": 73,
   "id": "c6d88cb3",
   "metadata": {},
   "outputs": [
    {
     "name": "stdout",
     "output_type": "stream",
     "text": [
      "mae== 4036.171051454685\n"
     ]
    }
   ],
   "source": [
    "mae=mean_absolute_error(y_train,y_pre)\n",
    "print(\"mae==\",mae)\n"
   ]
  },
  {
   "cell_type": "code",
   "execution_count": 74,
   "id": "ad884724",
   "metadata": {},
   "outputs": [
    {
     "name": "stdout",
     "output_type": "stream",
     "text": [
      "mae== 34387766.890877485\n"
     ]
    }
   ],
   "source": [
    "mse=mean_squared_error(y_train,y_pre)\n",
    "print(\"mae==\",mse)"
   ]
  },
  {
   "cell_type": "code",
   "execution_count": 75,
   "id": "02a381bd",
   "metadata": {},
   "outputs": [
    {
     "name": "stdout",
     "output_type": "stream",
     "text": [
      "rmse== 34387766.890877485\n"
     ]
    }
   ],
   "source": [
    "rmse=np.sqrt(mse)\n",
    "print(\"rmse==\",mse)"
   ]
  },
  {
   "cell_type": "code",
   "execution_count": 76,
   "id": "f5efc3c8",
   "metadata": {},
   "outputs": [
    {
     "name": "stdout",
     "output_type": "stream",
     "text": [
      "0.7705414555400971\n"
     ]
    }
   ],
   "source": [
    "r2=r2_score(y_train,y_pre)\n",
    "print(r2)"
   ]
  },
  {
   "cell_type": "code",
   "execution_count": 77,
   "id": "e02a8bdf",
   "metadata": {},
   "outputs": [
    {
     "data": {
      "text/html": [
       "<div>\n",
       "<style scoped>\n",
       "    .dataframe tbody tr th:only-of-type {\n",
       "        vertical-align: middle;\n",
       "    }\n",
       "\n",
       "    .dataframe tbody tr th {\n",
       "        vertical-align: top;\n",
       "    }\n",
       "\n",
       "    .dataframe thead th {\n",
       "        text-align: right;\n",
       "    }\n",
       "</style>\n",
       "<table border=\"1\" class=\"dataframe\">\n",
       "  <thead>\n",
       "    <tr style=\"text-align: right;\">\n",
       "      <th></th>\n",
       "      <th>0</th>\n",
       "    </tr>\n",
       "  </thead>\n",
       "  <tbody>\n",
       "    <tr>\n",
       "      <th>age</th>\n",
       "      <td>19.000</td>\n",
       "    </tr>\n",
       "    <tr>\n",
       "      <th>sex</th>\n",
       "      <td>0.000</td>\n",
       "    </tr>\n",
       "    <tr>\n",
       "      <th>bmi</th>\n",
       "      <td>27.900</td>\n",
       "    </tr>\n",
       "    <tr>\n",
       "      <th>children</th>\n",
       "      <td>0.000</td>\n",
       "    </tr>\n",
       "    <tr>\n",
       "      <th>smoker</th>\n",
       "      <td>1.000</td>\n",
       "    </tr>\n",
       "    <tr>\n",
       "      <th>charges</th>\n",
       "      <td>16884.924</td>\n",
       "    </tr>\n",
       "    <tr>\n",
       "      <th>region_northeast</th>\n",
       "      <td>0.000</td>\n",
       "    </tr>\n",
       "    <tr>\n",
       "      <th>region_northwest</th>\n",
       "      <td>0.000</td>\n",
       "    </tr>\n",
       "    <tr>\n",
       "      <th>region_southeast</th>\n",
       "      <td>0.000</td>\n",
       "    </tr>\n",
       "    <tr>\n",
       "      <th>region_southwest</th>\n",
       "      <td>1.000</td>\n",
       "    </tr>\n",
       "  </tbody>\n",
       "</table>\n",
       "</div>"
      ],
      "text/plain": [
       "                          0\n",
       "age                  19.000\n",
       "sex                   0.000\n",
       "bmi                  27.900\n",
       "children              0.000\n",
       "smoker                1.000\n",
       "charges           16884.924\n",
       "region_northeast      0.000\n",
       "region_northwest      0.000\n",
       "region_southeast      0.000\n",
       "region_southwest      1.000"
      ]
     },
     "execution_count": 77,
     "metadata": {},
     "output_type": "execute_result"
    }
   ],
   "source": [
    "df.head(1).T"
   ]
  },
  {
   "cell_type": "code",
   "execution_count": 78,
   "id": "f69b3b49",
   "metadata": {},
   "outputs": [],
   "source": [
    "age=25\n",
    "sex=\"male\"\n",
    "bim=27.9\n",
    "children=5\n",
    "smoker=\"no\"\n",
    "region_southwest=\"southwest\""
   ]
  },
  {
   "cell_type": "code",
   "execution_count": 79,
   "id": "fef71519",
   "metadata": {},
   "outputs": [],
   "source": [
    "project_data={\"sex\":{\"male\":1,\"female\":0},\n",
    "             \"smoker\":{\"yes\":1,\"no\":0},\n",
    "              \"colums\":list(x.columns)\n",
    "             }"
   ]
  },
  {
   "cell_type": "code",
   "execution_count": 80,
   "id": "13c6f8bb",
   "metadata": {},
   "outputs": [
    {
     "data": {
      "text/plain": [
       "8"
      ]
     },
     "execution_count": 80,
     "metadata": {},
     "output_type": "execute_result"
    }
   ],
   "source": [
    "column_names=x.columns\n",
    "region=\"region_\"+\"southwest\"\n",
    "region_index=np.where(column_names==region)[0][0]\n",
    "region_index"
   ]
  },
  {
   "cell_type": "code",
   "execution_count": 81,
   "id": "db1ff513",
   "metadata": {},
   "outputs": [
    {
     "data": {
      "text/plain": [
       "array([ 1,  1, 27,  5,  0,  0,  0,  0,  1])"
      ]
     },
     "execution_count": 81,
     "metadata": {},
     "output_type": "execute_result"
    }
   ],
   "source": [
    "array=np.zeros(x.columns.shape[0],dtype=int)\n",
    "array[0]=1\n",
    "array[1]=project_data[\"sex\"][sex]\n",
    "array[2]=bim\n",
    "array[3]=children\n",
    "array[4]=project_data[\"smoker\"][smoker]\n",
    "array[region_index]=1\n",
    "array"
   ]
  },
  {
   "cell_type": "code",
   "execution_count": 82,
   "id": "d855deb3",
   "metadata": {},
   "outputs": [
    {
     "data": {
      "text/plain": [
       "(9,)"
      ]
     },
     "execution_count": 82,
     "metadata": {},
     "output_type": "execute_result"
    }
   ],
   "source": [
    "array.shape"
   ]
  },
  {
   "cell_type": "code",
   "execution_count": 83,
   "id": "644abdc1",
   "metadata": {},
   "outputs": [
    {
     "name": "stderr",
     "output_type": "stream",
     "text": [
      "C:\\Users\\Prashant Dahake\\anaconda3\\lib\\site-packages\\sklearn\\base.py:450: UserWarning: X does not have valid feature names, but LinearRegression was fitted with feature names\n",
      "  warnings.warn(\n"
     ]
    },
    {
     "data": {
      "text/plain": [
       "array([-1890.02727413])"
      ]
     },
     "execution_count": 83,
     "metadata": {},
     "output_type": "execute_result"
    }
   ],
   "source": [
    "model.predict([array])\n"
   ]
  },
  {
   "cell_type": "code",
   "execution_count": 84,
   "id": "3e14468b",
   "metadata": {},
   "outputs": [],
   "source": [
    "import pickle \n",
    "import json"
   ]
  },
  {
   "cell_type": "code",
   "execution_count": 85,
   "id": "6758c11e",
   "metadata": {},
   "outputs": [],
   "source": [
    "with open (\"model.pkl\",\"wb\") as f:\n",
    "    pickle.dump(model,f)\n",
    "    \n",
    "with open (\"project_data.json\",\"w\") as f:\n",
    "    json.dump(project_data,f)\n"
   ]
  },
  {
   "cell_type": "code",
   "execution_count": 86,
   "id": "269043b7",
   "metadata": {},
   "outputs": [],
   "source": [
    "with open (\"model.pkl\",\"rb\") as f:\n",
    "    pickle.load(f)"
   ]
  },
  {
   "cell_type": "code",
   "execution_count": 87,
   "id": "d763645d",
   "metadata": {},
   "outputs": [],
   "source": [
    "with open(\"project_data.json\",\"r\") as f:\n",
    "    p=json.load(f)\n",
    "    p"
   ]
  },
  {
   "cell_type": "code",
   "execution_count": 92,
   "id": "93a93e85",
   "metadata": {},
   "outputs": [
    {
     "name": "stdout",
     "output_type": "stream",
     "text": [
      "test data [56.   1.  27.9  4.   0.   1.   0.   0.   0. ]\n",
      "price is  13316.12369650016\n"
     ]
    },
    {
     "name": "stderr",
     "output_type": "stream",
     "text": [
      "C:\\Users\\Prashant Dahake\\anaconda3\\lib\\site-packages\\sklearn\\base.py:450: UserWarning: X does not have valid feature names, but LinearRegression was fitted with feature names\n",
      "  warnings.warn(\n"
     ]
    },
    {
     "data": {
      "text/plain": [
       "13316.12369650016"
      ]
     },
     "execution_count": 92,
     "metadata": {},
     "output_type": "execute_result"
    }
   ],
   "source": [
    "import numpy as np\n",
    "import pandas as pd\n",
    "import pickle\n",
    "import json\n",
    "\n",
    "class medical_insurance():\n",
    "    def __init__(self,age,sex,bim,children,smoker,region):\n",
    "        self.age=age\n",
    "        self.sex=sex\n",
    "        self.bim=bim\n",
    "        self.children=children\n",
    "        self.smoker=smoker\n",
    "        self.region=\"region_\"+ region\n",
    "    def load_mode(self):\n",
    "        with open (\"model.pkl\",\"rb\") as f:\n",
    "            self.model1=pickle.load(f)\n",
    "\n",
    "        with open(\"project_data.json\",\"r\")as f:\n",
    "            self.json_data=json.load(f)\n",
    "    def prediction(self):\n",
    "        self.load_mode()\n",
    "        region_index=self.json_data[\"colums\"].index(self.region)\n",
    "\n",
    "        array=np.zeros(len(self.json_data[\"colums\"]))\n",
    "        array[0]=self.age\n",
    "        array[1]=self.json_data['sex'][self.sex]\n",
    "        array[2]=self.bim\n",
    "        array[3]=self.children\n",
    "        array[4]=self.json_data[\"smoker\"][self.smoker]\n",
    "        array[region_index]=1\n",
    "        print(\"test data\",array)\n",
    "        price=self.model1.predict([array])[0]\n",
    "        print(\"price is \",price)\n",
    "        return price\n",
    "# if __name__==\"__main__\":\n",
    "age=56\n",
    "sex='male'\n",
    "bmi=27.9\n",
    "children=4\n",
    "smoker='no'\n",
    "region='northeast'\n",
    "med_ins=medical_insurance(age, sex, bmi, children, smoker,region)\n",
    "\n",
    "med_ins.prediction()\n",
    "\n",
    "\n",
    "\n",
    "\n"
   ]
  },
  {
   "cell_type": "code",
   "execution_count": 88,
   "id": "f87fd55c",
   "metadata": {},
   "outputs": [],
   "source": [
    "# import numpy as np\n",
    "# import pandas as pd\n",
    "# import pickle\n",
    "# import json\n",
    "\n",
    "# class medical_insurance():\n",
    "#     def __init__(self,age,sex,bim,children,smoker,region):\n",
    "#         self.age=age\n",
    "#         self.sex=sex\n",
    "#         self.bim=bim\n",
    "#         self.children=children\n",
    "#         self.smoker=smoker\n",
    "#         self.region=\"region_\"+region\n",
    "#     def load_mode(self):\n",
    "#         with open (\"model.pkl\",\"rb\") as f:\n",
    "#             self.model1=pickle.load(f)\n",
    "\n",
    "#         with open(\"project_data.json\",\"r\")as f:\n",
    "#             self.json_data=json.load(f)\n",
    "#     def prediction(self):\n",
    "#         self.load_mode()\n",
    "#         region_index=self.json_data[\"colums\"].index(self.region)\n",
    "\n",
    "#         array=np.zeros(len(self.json_data[\"colums\"]))\n",
    "#         array[0]=self.age\n",
    "#         array[1]=self.json_data['sex'][self.sex]\n",
    "#         array[2]=self.bim\n",
    "#         array[3]=self.children\n",
    "#         array[4]=self.json_data[\"smoker\"][self.smoker]\n",
    "#         array[region_index]=1\n",
    "#         print(\"test data\",array)\n",
    "#         price=self.model1.predict([array])\n",
    "#         print(\"price is \",price)\n",
    "#         return price\n",
    "# # if __name__==\"__main__\":\n",
    "# age=56\n",
    "# sex='male'\n",
    "# bmi=27.9\n",
    "# children=4\n",
    "# smoker='no'\n",
    "# region='northeast'\n",
    "# med_ins=medical_insurance(age, sex, bmi, children, smoker,region)\n",
    "\n",
    "# med_ins.prediction()\n",
    "\n",
    "\n",
    "\n"
   ]
  },
  {
   "cell_type": "code",
   "execution_count": 90,
   "id": "64b00e3d",
   "metadata": {},
   "outputs": [],
   "source": [
    "# import numpy as np\n",
    "# import pickle\n",
    "# import json\n",
    "# #import config\n",
    "\n",
    "# class MedicalInsurance():\n",
    "#     def __init__(self,age, sex, bmi, children, smoker, region):\n",
    "#         self.age=age\n",
    "#         self.sex=sex\n",
    "#         self.bmi=bmi\n",
    "#         self.children=children\n",
    "#         self.smoker=smoker\n",
    "#         self.region='region_'+region\n",
    "\n",
    "#     def load_model(self):\n",
    "#         with open('model.pkl','rb') as f:\n",
    "#             self.model=pickle.load(f)\n",
    "\n",
    "        \n",
    "#         with open(\"project_data.json\",'r') as f:\n",
    "#             self.json_data=json.load(f)\n",
    "\n",
    "#     def get_predicted_charges(self):\n",
    "#         self.load_model()\n",
    "#         region_index=self.json_data['colums'].index(self.region)\n",
    "\n",
    "#         test_array=np.zeros(len(self.json_data['colums']))\n",
    "#         test_array[0]=self.age\n",
    "#         test_array[1]=self.json_data['sex'][self.sex]\n",
    "#         test_array[2]=self.bmi\n",
    "#         test_array[3]=self.children\n",
    "#         test_array[4]=self.json_data['smoker'][self.smoker]\n",
    "#         test_array[region_index]=1\n",
    "\n",
    "#         print(\"Test Array: \",test_array)\n",
    "#         predicted_charges=self.model.predict([test_array])\n",
    "#         print(predicted_charges)\n",
    "#         return predicted_charges\n",
    "\n",
    "# if __name__==\"__main__\":\n",
    "#     age=56\n",
    "#     sex='male'\n",
    "#     bmi=27.9\n",
    "#     children= 4\n",
    "#     smoker='no'\n",
    "#     region='northeast'\n",
    "#     med_ins=MedicalInsurance(age, sex, bmi, children, smoker,region)\n",
    "#     med_ins.get_predicted_charges()"
   ]
  },
  {
   "cell_type": "code",
   "execution_count": null,
   "id": "63e4d11e",
   "metadata": {},
   "outputs": [],
   "source": []
  },
  {
   "cell_type": "code",
   "execution_count": null,
   "id": "dcacd59e",
   "metadata": {},
   "outputs": [],
   "source": []
  },
  {
   "cell_type": "code",
   "execution_count": null,
   "id": "1edb1c47",
   "metadata": {},
   "outputs": [],
   "source": []
  },
  {
   "cell_type": "code",
   "execution_count": null,
   "id": "8e7433a3",
   "metadata": {},
   "outputs": [],
   "source": []
  },
  {
   "cell_type": "code",
   "execution_count": null,
   "id": "3bc8836d",
   "metadata": {},
   "outputs": [],
   "source": []
  },
  {
   "cell_type": "code",
   "execution_count": null,
   "id": "7a583dec",
   "metadata": {},
   "outputs": [],
   "source": []
  },
  {
   "cell_type": "code",
   "execution_count": null,
   "id": "5eadac30",
   "metadata": {},
   "outputs": [],
   "source": []
  },
  {
   "cell_type": "code",
   "execution_count": null,
   "id": "49becdc7",
   "metadata": {},
   "outputs": [],
   "source": []
  },
  {
   "cell_type": "code",
   "execution_count": null,
   "id": "8e21dc15",
   "metadata": {},
   "outputs": [],
   "source": []
  },
  {
   "cell_type": "code",
   "execution_count": null,
   "id": "c33fb3e3",
   "metadata": {},
   "outputs": [],
   "source": []
  },
  {
   "cell_type": "code",
   "execution_count": null,
   "id": "55889ca3",
   "metadata": {},
   "outputs": [],
   "source": []
  },
  {
   "cell_type": "code",
   "execution_count": null,
   "id": "78c82e55",
   "metadata": {},
   "outputs": [],
   "source": []
  },
  {
   "cell_type": "code",
   "execution_count": null,
   "id": "580a16e3",
   "metadata": {},
   "outputs": [],
   "source": []
  },
  {
   "cell_type": "code",
   "execution_count": null,
   "id": "78955d30",
   "metadata": {},
   "outputs": [],
   "source": []
  },
  {
   "cell_type": "code",
   "execution_count": null,
   "id": "fb393b0e",
   "metadata": {},
   "outputs": [],
   "source": []
  },
  {
   "cell_type": "code",
   "execution_count": null,
   "id": "420a1309",
   "metadata": {},
   "outputs": [],
   "source": []
  },
  {
   "cell_type": "code",
   "execution_count": null,
   "id": "de9d17ac",
   "metadata": {},
   "outputs": [],
   "source": []
  },
  {
   "cell_type": "code",
   "execution_count": null,
   "id": "5a19e301",
   "metadata": {},
   "outputs": [],
   "source": []
  },
  {
   "cell_type": "code",
   "execution_count": null,
   "id": "24eb25e1",
   "metadata": {},
   "outputs": [],
   "source": []
  },
  {
   "cell_type": "code",
   "execution_count": null,
   "id": "d42f23c7",
   "metadata": {},
   "outputs": [],
   "source": []
  },
  {
   "cell_type": "code",
   "execution_count": null,
   "id": "b2c2d70e",
   "metadata": {},
   "outputs": [],
   "source": []
  }
 ],
 "metadata": {
  "kernelspec": {
   "display_name": "Python 3 (ipykernel)",
   "language": "python",
   "name": "python3"
  },
  "language_info": {
   "codemirror_mode": {
    "name": "ipython",
    "version": 3
   },
   "file_extension": ".py",
   "mimetype": "text/x-python",
   "name": "python",
   "nbconvert_exporter": "python",
   "pygments_lexer": "ipython3",
   "version": "3.9.12"
  },
  "vscode": {
   "interpreter": {
    "hash": "26f7500fe4e780b2b4c9859f0c4209e5076a2cbd0a0b1bddc3eaafcb8522b140"
   }
  }
 },
 "nbformat": 4,
 "nbformat_minor": 5
}
